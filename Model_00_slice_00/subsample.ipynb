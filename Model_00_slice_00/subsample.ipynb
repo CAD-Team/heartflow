{
 "cells": [
  {
   "cell_type": "code",
   "execution_count": 7,
   "metadata": {},
   "outputs": [],
   "source": [
    "from nutils import*\n",
    "import numpy as np\n",
    "from matplotlib import pyplot as plt\n",
    "from matplotlib import colors, collections, cm\n",
    "import vtk\n",
    "import image_based_analysis as im"
   ]
  },
  {
   "cell_type": "code",
   "execution_count": 12,
   "metadata": {},
   "outputs": [],
   "source": [
    "def mysample(topo, ischeme, degree):\n",
    "    'Create sample.'\n",
    "\n",
    "    references = [topo.references[i] for i in range(10)]\n",
    "    points = PointsSequence.from_iter((ischeme(reference, degree) for reference in references), topo.ndims) if callable(ischeme) \\\n",
    "        else topo.references.getpoints(ischeme, degree)\n",
    "    transforms = topo.transforms,\n",
    "    if len(topo.transforms) == 0 or topo.opposites != topo.transforms:\n",
    "        transforms += topo.opposites,\n",
    "    return sample.Sample.new(transforms, points)"
   ]
  },
  {
   "cell_type": "code",
   "execution_count": 13,
   "metadata": {},
   "outputs": [],
   "source": [
    "ptA = [0,0,0]\n",
    "ptB = [1,1,1]\n",
    "shape = [10,10]\n",
    "topo, geom = im.BuildGridMesh(ptA, ptB, shape)"
   ]
  },
  {
   "cell_type": "code",
   "execution_count": 14,
   "metadata": {},
   "outputs": [
    {
     "data": {
      "text/plain": [
       "[<matplotlib.lines.Line2D at 0x1e7cba37908>]"
      ]
     },
     "execution_count": 14,
     "metadata": {},
     "output_type": "execute_result"
    },
    {
     "data": {
      "image/png": "[encoded data removed]",
      "text/plain": [
       "<Figure size 432x288 with 1 Axes>"
      ]
     },
     "metadata": {
      "needs_background": "light"
     },
     "output_type": "display_data"
    }
   ],
   "source": [
    "bez = mysample(topo, 'bezier', 2)\n",
    "vals = bez.eval(geom)\n",
    "plt.plot(vals[:,0], vals[:,1],'o')"
   ]
  },
  {
   "cell_type": "code",
   "execution_count": null,
   "metadata": {},
   "outputs": [],
   "source": []
  },
  {
   "cell_type": "code",
   "execution_count": null,
   "metadata": {},
   "outputs": [],
   "source": []
  }
 ],
 "metadata": {
  "kernelspec": {
   "display_name": "Python 3",
   "language": "python",
   "name": "python3"
  },
  "language_info": {
   "codemirror_mode": {
    "name": "ipython",
    "version": 3
   },
   "file_extension": ".py",
   "mimetype": "text/x-python",
   "name": "python",
   "nbconvert_exporter": "python",
   "pygments_lexer": "ipython3",
   "version": "3.7.4"
  }
 },
 "nbformat": 4,
 "nbformat_minor": 2
}
