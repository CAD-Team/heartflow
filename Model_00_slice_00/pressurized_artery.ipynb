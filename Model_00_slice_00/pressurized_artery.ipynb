{
 "cells": [
  {
   "cell_type": "code",
   "execution_count": 34,
   "metadata": {},
   "outputs": [],
   "source": [
    "from nutils import*\n",
    "from nutils.pointsseq import PointsSequence\n",
    "import numpy as np\n",
    "from matplotlib import pyplot as plt\n",
    "from matplotlib import colors, collections, cm\n",
    "import os\n",
    "import meshio\n",
    "import vtk\n",
    "from vtk.util import numpy_support"
   ]
  },
  {
   "cell_type": "code",
   "execution_count": 104,
   "metadata": {},
   "outputs": [],
   "source": [
    "def GetLumenMesh(fname):\n",
    "    reader = vtk.vtkXMLUnstructuredGridReader()\n",
    "    reader.SetFileName(fname)\n",
    "    reader.Update()\n",
    "    return reader.GetOutput()\n",
    "\n",
    "def GetMeshPoints(mesh):\n",
    "    pts = lumen_mesh.GetPoints().GetData()\n",
    "    pts_array = numpy_support.vtk_to_numpy(pts)\n",
    "    return pts_array\n",
    "\n",
    "def GetMeshCells(mesh):\n",
    "    cells = mesh.GetVerts().GetConnectivityArray()\n",
    "    cells_array = numpy_support.vtk_to_numpy(cells)\n",
    "    return cells_array\n",
    "    \n",
    "def GetMeshData(mesh, data_name):\n",
    "    data = lumen_mesh.GetPointData().GetArray(data_name)\n",
    "    data_array = numpy_support.vtk_to_numpy(data)\n",
    "    return data_array\n",
    "\n",
    "def BuildPlane(origin, normal):\n",
    "    plane = vtk.vtkPlane()\n",
    "    plane.SetOrigin(origin)\n",
    "    plane.SetNormal(normal)\n",
    "    return plane\n",
    "\n",
    "def SliceMesh(mesh, plane):\n",
    "    cutter = vtk.vtkCutter()\n",
    "    cutter.SetCutFunction(plane)\n",
    "    cutter.SetInputData(mesh)\n",
    "    cutter.Update()\n",
    "    return cutter.GetOutput(0)\n",
    "\n",
    "def Rotate(mesh, matrix):\n",
    "    return\n",
    "\n",
    "def TransformationMatrixToXYPlane(mesh):\n",
    "    return\n",
    "\n",
    "def CircularCrop(mesh):\n",
    "    return"
   ]
  },
  {
   "cell_type": "code",
   "execution_count": 55,
   "metadata": {},
   "outputs": [],
   "source": [
    "# Read lumen Mesh Data\n",
    "fname = \"data\\\\flow_sim.vtu\"\n",
    "lumen_mesh = GetLumenMesh(fname)\n",
    "pts = GetMeshPoints(lumen_mesh)\n",
    "pressure = GetMeshData(lumen_mesh, \"Pressure\")\n",
    "normals = GetMeshData(lumen_mesh, \"normal\")"
   ]
  },
  {
   "cell_type": "code",
   "execution_count": 58,
   "metadata": {},
   "outputs": [],
   "source": [
    "# Define Sampling Plane\n",
    "sampling_plane_origin = (39.35025102748692, -182.88678578819045, 635.1077093084257)\n",
    "sampling_plane_normal = (0.16669412398742134, -0.9856447804529322, 0.026784991953651572)\n",
    "sampling_plane = BuildPlane(sampling_plane_origin, sampling_plane_normal)"
   ]
  },
  {
   "cell_type": "code",
   "execution_count": 67,
   "metadata": {},
   "outputs": [],
   "source": [
    "# Slice Mesh\n",
    "lumen_mesh_slice= SliceMesh(lumen_mesh, sampling_plane)"
   ]
  },
  {
   "cell_type": "code",
   "execution_count": 73,
   "metadata": {},
   "outputs": [
    {
     "ename": "TypeError",
     "evalue": "SetVOI argument %Id: %V",
     "output_type": "error",
     "traceback": [
      "\u001b[1;31m---------------------------------------------------------------------------\u001b[0m",
      "\u001b[1;31mTypeError\u001b[0m                                 Traceback (most recent call last)",
      "\u001b[1;32m<ipython-input-73-5ef62b823d45>\u001b[0m in \u001b[0;36m<module>\u001b[1;34m\u001b[0m\n\u001b[0;32m      7\u001b[0m \u001b[0mhz\u001b[0m \u001b[1;33m=\u001b[0m \u001b[1;36m3\u001b[0m\u001b[1;33m\u001b[0m\u001b[1;33m\u001b[0m\u001b[0m\n\u001b[0;32m      8\u001b[0m \u001b[0mvoi\u001b[0m \u001b[1;33m=\u001b[0m \u001b[0mvtk\u001b[0m\u001b[1;33m.\u001b[0m\u001b[0mvtkExtractVOI\u001b[0m\u001b[1;33m(\u001b[0m\u001b[1;33m)\u001b[0m\u001b[1;33m\u001b[0m\u001b[1;33m\u001b[0m\u001b[0m\n\u001b[1;32m----> 9\u001b[1;33m \u001b[0mvoi\u001b[0m\u001b[1;33m.\u001b[0m\u001b[0mSetVOI\u001b[0m\u001b[1;33m(\u001b[0m\u001b[0morigin\u001b[0m\u001b[1;33m[\u001b[0m\u001b[1;36m0\u001b[0m\u001b[1;33m]\u001b[0m\u001b[1;33m-\u001b[0m\u001b[0mhx\u001b[0m\u001b[1;33m/\u001b[0m\u001b[1;36m2\u001b[0m\u001b[1;33m,\u001b[0m \u001b[0morigin\u001b[0m\u001b[1;33m[\u001b[0m\u001b[1;36m0\u001b[0m\u001b[1;33m]\u001b[0m\u001b[1;33m+\u001b[0m\u001b[0mhx\u001b[0m\u001b[1;33m/\u001b[0m\u001b[1;36m2\u001b[0m\u001b[1;33m,\u001b[0m \u001b[0morigin\u001b[0m\u001b[1;33m[\u001b[0m\u001b[1;36m0\u001b[0m\u001b[1;33m]\u001b[0m\u001b[1;33m-\u001b[0m\u001b[0mhy\u001b[0m\u001b[1;33m/\u001b[0m\u001b[1;36m2\u001b[0m\u001b[1;33m,\u001b[0m \u001b[0morigin\u001b[0m\u001b[1;33m[\u001b[0m\u001b[1;36m1\u001b[0m\u001b[1;33m]\u001b[0m\u001b[1;33m+\u001b[0m\u001b[0mhy\u001b[0m\u001b[1;33m/\u001b[0m\u001b[1;36m2\u001b[0m\u001b[1;33m,\u001b[0m \u001b[0morigin\u001b[0m\u001b[1;33m[\u001b[0m\u001b[1;36m2\u001b[0m\u001b[1;33m]\u001b[0m\u001b[1;33m-\u001b[0m\u001b[0mhz\u001b[0m\u001b[1;33m/\u001b[0m\u001b[1;36m2\u001b[0m\u001b[1;33m,\u001b[0m \u001b[0morigin\u001b[0m\u001b[1;33m[\u001b[0m\u001b[1;36m2\u001b[0m\u001b[1;33m]\u001b[0m\u001b[1;33m+\u001b[0m\u001b[0mhz\u001b[0m\u001b[1;33m/\u001b[0m\u001b[1;36m2\u001b[0m\u001b[1;33m)\u001b[0m\u001b[1;33m\u001b[0m\u001b[1;33m\u001b[0m\u001b[0m\n\u001b[0m\u001b[0;32m     10\u001b[0m \u001b[1;31m#voi.SetInput(mesh)\u001b[0m\u001b[1;33m\u001b[0m\u001b[1;33m\u001b[0m\u001b[1;33m\u001b[0m\u001b[0m\n\u001b[0;32m     11\u001b[0m \u001b[1;31m#voi.SetSampleRate(1, 1, 1)\u001b[0m\u001b[1;33m\u001b[0m\u001b[1;33m\u001b[0m\u001b[1;33m\u001b[0m\u001b[0m\n",
      "\u001b[1;31mTypeError\u001b[0m: SetVOI argument %Id: %V"
     ]
    }
   ],
   "source": [
    "# crop\n",
    "# Cropping the vtkImagedata according\n",
    "# with values.\n",
    "origin = sampling_plane_origin\n",
    "hx = 3\n",
    "hy = 3\n",
    "hz = 3\n",
    "voi = vtk.vtkExtractVOI()\n",
    "voi.SetVOI(origin[0]-hx/2, origin[0]+hx/2, origin[0]-hy/2, origin[1]+hy/2, origin[2]-hz/2, origin[2]+hz/2)\n",
    "#voi.SetInput(mesh)\n",
    "#voi.SetSampleRate(1, 1, 1)\n",
    "#voi.Update()\n",
    "#out = voi.GetOutput()"
   ]
  },
  {
   "cell_type": "code",
   "execution_count": 111,
   "metadata": {},
   "outputs": [
    {
     "ename": "TypeError",
     "evalue": "no overloads of GetCellPoints() take 1 argument",
     "output_type": "error",
     "traceback": [
      "\u001b[1;31m---------------------------------------------------------------------------\u001b[0m",
      "\u001b[1;31mTypeError\u001b[0m                                 Traceback (most recent call last)",
      "\u001b[1;32m<ipython-input-111-eb919bd08081>\u001b[0m in \u001b[0;36m<module>\u001b[1;34m\u001b[0m\n\u001b[1;32m----> 1\u001b[1;33m \u001b[0mcells\u001b[0m \u001b[1;33m=\u001b[0m \u001b[0mlumen_mesh_slice\u001b[0m\u001b[1;33m.\u001b[0m\u001b[0mGetCellPoints\u001b[0m\u001b[1;33m(\u001b[0m\u001b[1;36m0\u001b[0m\u001b[1;33m)\u001b[0m\u001b[1;33m\u001b[0m\u001b[1;33m\u001b[0m\u001b[0m\n\u001b[0m",
      "\u001b[1;31mTypeError\u001b[0m: no overloads of GetCellPoints() take 1 argument"
     ]
    }
   ],
   "source": [
    "cells = lumen_mesh_slice.GetCellPoints(0)"
   ]
  },
  {
   "cell_type": "code",
   "execution_count": 107,
   "metadata": {},
   "outputs": [
    {
     "name": "stdout",
     "output_type": "stream",
     "text": [
      "<class 'vtkmodules.vtkCommonDataModel.vtkUnstructuredGrid'>\n",
      "<class 'vtkmodules.vtkCommonDataModel.vtkPolyData'>\n",
      "vtkPolyData (0000013F1DA81250)\n",
      "  Debug: Off\n",
      "  Modified Time: 7541\n",
      "  Reference Count: 1\n",
      "  Registered Events: (none)\n",
      "  Information: 0000013F21C76FA0\n",
      "  Data Released: False\n",
      "  Global Release Data: Off\n",
      "  UpdateTime: 7548\n",
      "  Field Data:\n",
      "    Debug: Off\n",
      "    Modified Time: 7267\n",
      "    Reference Count: 1\n",
      "    Registered Events: (none)\n",
      "    Number Of Arrays: 0\n",
      "    Number Of Components: 0\n",
      "    Number Of Tuples: 0\n",
      "  Number Of Points: 418\n",
      "  Number Of Cells: 418\n",
      "  Cell Data:\n",
      "    Debug: Off\n",
      "    Modified Time: 7275\n",
      "    Reference Count: 1\n",
      "    Registered Events: \n",
      "      Registered Observers:\n",
      "        vtkObserver (0000013F1DC6E980)\n",
      "          Event: 33\n",
      "          EventName: ModifiedEvent\n",
      "          Command: 0000013F21C76C30\n",
      "          Priority: 0\n",
      "          Tag: 1\n",
      "    Number Of Arrays: 0\n",
      "    Number Of Components: 0\n",
      "    Number Of Tuples: 0\n",
      "    Copy Tuple Flags: ( 1 1 1 1 1 0 1 1 1 1 1 )\n",
      "    Interpolate Flags: ( 1 1 1 1 1 0 0 1 1 1 1 )\n",
      "    Pass Through Flags: ( 1 1 1 1 1 1 1 1 1 1 1 )\n",
      "    Scalars: (none)\n",
      "    Vectors: (none)\n",
      "    Normals: (none)\n",
      "    TCoords: (none)\n",
      "    Tensors: (none)\n",
      "    GlobalIds: (none)\n",
      "    PedigreeIds: (none)\n",
      "    EdgeFlag: (none)\n",
      "    Tangents: (none)\n",
      "    RationalWeights: (none)\n",
      "    HigherOrderDegrees: (none)\n",
      "  Point Data:\n",
      "    Debug: Off\n",
      "    Modified Time: 7371\n",
      "    Reference Count: 1\n",
      "    Registered Events: \n",
      "      Registered Observers:\n",
      "        vtkObserver (0000013F1DC6E920)\n",
      "          Event: 33\n",
      "          EventName: ModifiedEvent\n",
      "          Command: 0000013F21C76C30\n",
      "          Priority: 0\n",
      "          Tag: 1\n",
      "    Number Of Arrays: 7\n",
      "    Array 0 name = FFR\n",
      "    Array 1 name = Velocity\n",
      "    Array 2 name = Pressure\n",
      "    Array 3 name = GradP\n",
      "    Array 4 name = WSS\n",
      "    Array 5 name = Traction\n",
      "    Array 6 name = normal\n",
      "    Number Of Components: 17\n",
      "    Number Of Tuples: 418\n",
      "    Copy Tuple Flags: ( 1 1 1 1 1 0 1 1 1 1 1 )\n",
      "    Interpolate Flags: ( 1 1 1 1 1 0 0 1 1 1 1 )\n",
      "    Pass Through Flags: ( 1 1 1 1 1 1 1 1 1 1 1 )\n",
      "    Scalars: \n",
      "      Debug: Off\n",
      "      Modified Time: 7332\n",
      "      Reference Count: 1\n",
      "      Registered Events: (none)\n",
      "      Name: FFR\n",
      "      Data type: double\n",
      "      Size: 418\n",
      "      MaxId: 417\n",
      "      NumberOfComponents: 1\n",
      "      Information: 0000000000000000\n",
      "      Name: FFR\n",
      "      Number Of Components: 1\n",
      "      Number Of Tuples: 418\n",
      "      Size: 418\n",
      "      MaxId: 417\n",
      "      LookupTable: (none)\n",
      "    Vectors: \n",
      "      Debug: Off\n",
      "      Modified Time: 7350\n",
      "      Reference Count: 1\n",
      "      Registered Events: (none)\n",
      "      Name: GradP\n",
      "      Data type: double\n",
      "      Size: 1254\n",
      "      MaxId: 1253\n",
      "      NumberOfComponents: 3\n",
      "      Information: 0000000000000000\n",
      "      Name: GradP\n",
      "      Number Of Components: 3\n",
      "      Number Of Tuples: 418\n",
      "      Size: 1254\n",
      "      MaxId: 1253\n",
      "      LookupTable: (none)\n",
      "    Normals: (none)\n",
      "    TCoords: (none)\n",
      "    Tensors: (none)\n",
      "    GlobalIds: (none)\n",
      "    PedigreeIds: (none)\n",
      "    EdgeFlag: (none)\n",
      "    Tangents: (none)\n",
      "    RationalWeights: (none)\n",
      "    HigherOrderDegrees: (none)\n",
      "  Bounds: \n",
      "    Xmin,Xmax: (-23.3699, 45.7311)\n",
      "    Ymin,Ymax: (-193.779, -181.948)\n",
      "    Zmin,Zmax: (555.262, 643.579)\n",
      "  Compute Time: 7568\n",
      "  Editable: false\n",
      "  Number Of Points: 418\n",
      "  Point Coordinates: 0000013F1D564CF0\n",
      "  PointLocator: 0000000000000000\n",
      "  CellLocator: 0000000000000000\n",
      "  Number Of Vertices: 0\n",
      "  Number Of Lines: 418\n",
      "  Number Of Polygons: 0\n",
      "  Number Of Triangle Strips: 0\n",
      "  Number Of Pieces: 1\n",
      "  Piece: 0\n",
      "  Ghost Level: 0\n",
      "\n",
      "\n"
     ]
    },
    {
     "ename": "AttributeError",
     "evalue": "'vtkmodules.vtkCommonDataModel.vtkCellData' object has no attribute 'GetConnectivityArray'",
     "output_type": "error",
     "traceback": [
      "\u001b[1;31m---------------------------------------------------------------------------\u001b[0m",
      "\u001b[1;31mAttributeError\u001b[0m                            Traceback (most recent call last)",
      "\u001b[1;32m<ipython-input-107-78597d424273>\u001b[0m in \u001b[0;36m<module>\u001b[1;34m\u001b[0m\n\u001b[0;32m      3\u001b[0m \u001b[0mprint\u001b[0m\u001b[1;33m(\u001b[0m\u001b[0mlumen_mesh_slice\u001b[0m\u001b[1;33m)\u001b[0m\u001b[1;33m\u001b[0m\u001b[1;33m\u001b[0m\u001b[0m\n\u001b[0;32m      4\u001b[0m \u001b[1;33m\u001b[0m\u001b[0m\n\u001b[1;32m----> 5\u001b[1;33m \u001b[0mprint\u001b[0m\u001b[1;33m(\u001b[0m\u001b[0mlumen_mesh_slice\u001b[0m\u001b[1;33m.\u001b[0m\u001b[0mGetCellData\u001b[0m\u001b[1;33m(\u001b[0m\u001b[1;33m)\u001b[0m\u001b[1;33m.\u001b[0m\u001b[0mGetConnectivityArray\u001b[0m\u001b[1;33m(\u001b[0m\u001b[1;33m)\u001b[0m\u001b[1;33m)\u001b[0m\u001b[1;33m\u001b[0m\u001b[1;33m\u001b[0m\u001b[0m\n\u001b[0m",
      "\u001b[1;31mAttributeError\u001b[0m: 'vtkmodules.vtkCommonDataModel.vtkCellData' object has no attribute 'GetConnectivityArray'"
     ]
    }
   ],
   "source": [
    "print(type(lumen_mesh))\n",
    "print(type(lumen_mesh_slice))\n",
    "print(lumen_mesh_slice)\n",
    "\n",
    "print(lumen_mesh_slice.GetCellData().GetConnectivityArray())"
   ]
  },
  {
   "cell_type": "code",
   "execution_count": 112,
   "metadata": {},
   "outputs": [
    {
     "ename": "SyntaxError",
     "evalue": "invalid syntax (<ipython-input-112-8c46aa10561f>, line 1)",
     "output_type": "error",
     "traceback": [
      "\u001b[1;36m  File \u001b[1;32m\"<ipython-input-112-8c46aa10561f>\"\u001b[1;36m, line \u001b[1;32m1\u001b[0m\n\u001b[1;33m    https://danstoj.pythonanywhere.com/article/vtk-1\u001b[0m\n\u001b[1;37m           ^\u001b[0m\n\u001b[1;31mSyntaxError\u001b[0m\u001b[1;31m:\u001b[0m invalid syntax\n"
     ]
    }
   ],
   "source": [
    "https://danstoj.pythonanywhere.com/article/vtk-1"
   ]
  },
  {
   "cell_type": "code",
   "execution_count": null,
   "metadata": {},
   "outputs": [],
   "source": []
  }
 ],
 "metadata": {
  "kernelspec": {
   "display_name": "Python 3",
   "language": "python",
   "name": "python3"
  },
  "language_info": {
   "codemirror_mode": {
    "name": "ipython",
    "version": 3
   },
   "file_extension": ".py",
   "mimetype": "text/x-python",
   "name": "python",
   "nbconvert_exporter": "python",
   "pygments_lexer": "ipython3",
   "version": "3.7.4"
  }
 },
 "nbformat": 4,
 "nbformat_minor": 2
}
