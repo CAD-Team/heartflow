{
 "cells": [
  {
   "cell_type": "code",
   "execution_count": 2,
   "metadata": {},
   "outputs": [],
   "source": [
    "import image_based_analysis as im\n",
    "from nutils import*\n",
    "import numpy as np"
   ]
  },
  {
   "cell_type": "code",
   "execution_count": 2,
   "metadata": {},
   "outputs": [],
   "source": [
    "# Create a VTK Mesh\n",
    "fname = \"data/flow_sim.vtu\"\n",
    "lumen_mesh = im.VTKTriMesh(fname)"
   ]
  },
  {
   "cell_type": "code",
   "execution_count": 3,
   "metadata": {},
   "outputs": [
    {
     "name": "stdout",
     "output_type": "stream",
     "text": [
      "verts : [[  42.45257187 -197.14161682  638.48364258]\n",
      " [  42.40272522 -196.73388672  637.65594482]\n",
      " [  42.34238434 -196.76712036  637.72344971]\n",
      " ...\n",
      " [ -26.75434532 -219.60407872  588.20773684]\n",
      " [ -26.92930987 -219.58942657  588.32584456]\n",
      " [ -26.99084054 -219.78499199  588.51420468]]\n",
      "cells : [[    2     1    38]\n",
      " [    2    38    39]\n",
      " [   39    38    40]\n",
      " ...\n",
      " [91722 91659 91622]\n",
      " [91557 91716 91555]\n",
      " [91716 91557 91585]]\n",
      "tractions : [[-3125.97331401 -3367.17938047  3839.26300608]\n",
      " [-3795.25603839  -219.16613784 -5071.03131908]\n",
      " [-4703.8847161   -995.31466902 -4506.36114468]\n",
      " ...\n",
      " [    0.             0.             0.        ]\n",
      " [    0.             0.             0.        ]\n",
      " [    0.             0.             0.        ]]\n"
     ]
    }
   ],
   "source": [
    "# Get VTK Mesh data arrays\n",
    "verts = lumen_mesh.GetPoints()\n",
    "cells = lumen_mesh.GetCells()\n",
    "tractions = lumen_mesh.GetData(\"Traction\")\n",
    "\n",
    "print(\"verts : \" + str(verts))\n",
    "print(\"cells : \" + str(cells))\n",
    "print(\"tractions : \" + str(tractions))"
   ]
  },
  {
   "cell_type": "code",
   "execution_count": 4,
   "metadata": {},
   "outputs": [],
   "source": [
    "# Build Nutils mesh from VTK mesh\n",
    "topo, geom = lumen_mesh.ToNutilsMesh()"
   ]
  },
  {
   "cell_type": "code",
   "execution_count": 5,
   "metadata": {},
   "outputs": [],
   "source": [
    "# Create MetaImage\n",
    "fname = \"data/outer_wall.mha\"\n",
    "img = im.MetaImage(fname)"
   ]
  },
  {
   "cell_type": "code",
   "execution_count": 6,
   "metadata": {},
   "outputs": [
    {
     "name": "stdout",
     "output_type": "stream",
     "text": [
      "origin : [ -32.75 -243.    543.5 ]\n",
      "spacing : [0.25 0.25 0.25]\n",
      "shape : [502 442 411]\n",
      "vals : [0. 0. 0. ... 0. 0. 0.]\n"
     ]
    }
   ],
   "source": [
    "# Get MetaImage data\n",
    "origin = img.GetOrigin()\n",
    "spacing = img.GetSpacing()\n",
    "shape = img.GetShape()\n",
    "vals = img.GetValues()\n",
    "\n",
    "print(\"origin : \" + str(origin))\n",
    "print(\"spacing : \" + str(spacing))\n",
    "print(\"shape : \" + str(shape))\n",
    "print(\"vals : \" + str(vals))"
   ]
  },
  {
   "cell_type": "code",
   "execution_count": 7,
   "metadata": {},
   "outputs": [],
   "source": [
    "# Create Nutils mesh on Meta Image\n",
    "shape = [20,20,20]\n",
    "topo, geom = img.ToNutilsMesh(shape)"
   ]
  },
  {
   "cell_type": "code",
   "execution_count": 8,
   "metadata": {},
   "outputs": [],
   "source": [
    "# Create a Voxel Image Function\n",
    "ns = function.Namespace()\n",
    "ns.f = im.VoxelImageFunction(img, geom[0], geom[1], geom[2])"
   ]
  },
  {
   "cell_type": "code",
   "execution_count": 9,
   "metadata": {},
   "outputs": [
    {
     "name": "stdout",
     "output_type": "stream",
     "text": [
      "test.vtk\n"
     ]
    }
   ],
   "source": [
    "# Write vtk\n",
    "n = 5\n",
    "im.WriteVTK(topo, geom, {\"f\" : ns.f}, n, \"test\")"
   ]
  },
  {
   "cell_type": "code",
   "execution_count": 12,
   "metadata": {},
   "outputs": [
    {
     "data": {
      "text/plain": [
       "array([0, 0, 0])"
      ]
     },
     "execution_count": 12,
     "metadata": {},
     "output_type": "execute_result"
    }
   ],
   "source": [
    "np.minimum([1,0,1],[0,1,0])"
   ]
  },
  {
   "cell_type": "code",
   "execution_count": 6,
   "metadata": {},
   "outputs": [
    {
     "data": {
      "text/plain": [
       "array([0, 0, 1])"
      ]
     },
     "execution_count": 6,
     "metadata": {},
     "output_type": "execute_result"
    }
   ],
   "source": [
    "a = np.array([1,0,0])\n",
    "b = np.array([0,1,0])\n",
    "np.cross(a,b)"
   ]
  },
  {
   "cell_type": "code",
   "execution_count": null,
   "metadata": {},
   "outputs": [],
   "source": []
  }
 ],
 "metadata": {
  "kernelspec": {
   "display_name": "Python 3",
   "language": "python",
   "name": "python3"
  },
  "language_info": {
   "codemirror_mode": {
    "name": "ipython",
    "version": 3
   },
   "file_extension": ".py",
   "mimetype": "text/x-python",
   "name": "python",
   "nbconvert_exporter": "python",
   "pygments_lexer": "ipython3",
   "version": "3.7.4"
  }
 },
 "nbformat": 4,
 "nbformat_minor": 2
}
