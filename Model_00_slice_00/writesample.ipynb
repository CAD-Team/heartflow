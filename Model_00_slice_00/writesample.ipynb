{
 "cells": [
  {
   "cell_type": "code",
   "execution_count": 1,
   "metadata": {},
   "outputs": [],
   "source": [
    "from nutils import*\n",
    "import numpy as np\n",
    "from matplotlib import pyplot as plt\n",
    "from matplotlib import colors, collections, cm\n",
    "import vtk\n",
    "import image_based_analysis as im"
   ]
  },
  {
   "cell_type": "code",
   "execution_count": 2,
   "metadata": {},
   "outputs": [],
   "source": [
    "def BuildGridMesh(ptA, ptB, shape):\n",
    "    x = [np.linspace(xmin,xmax,nelems+1) for xmin,xmax,nelems in zip(ptA,ptB,shape)]\n",
    "    return mesh.rectilinear(x)\n"
   ]
  },
  {
   "cell_type": "code",
   "execution_count": 14,
   "metadata": {},
   "outputs": [],
   "source": [
    "topo, geom = BuildGridMesh([0,0,0],[1,1,1],[2,2,2])"
   ]
  },
  {
   "cell_type": "code",
   "execution_count": 15,
   "metadata": {},
   "outputs": [],
   "source": [
    "bez = topo.sample('bezier',2)\n",
    "gauss = topo.sample('gauss',2)"
   ]
  },
  {
   "cell_type": "code",
   "execution_count": 58,
   "metadata": {},
   "outputs": [
    {
     "name": "stdout",
     "output_type": "stream",
     "text": [
      "64\n"
     ]
    }
   ],
   "source": [
    "print(gauss.points.npoints)"
   ]
  },
  {
   "cell_type": "code",
   "execution_count": 41,
   "metadata": {},
   "outputs": [
    {
     "name": "stdout",
     "output_type": "stream",
     "text": [
      "[[ 0  1  2  3  4  5  6  7]\n",
      " [ 8  9 10 11 12 13 14 15]\n",
      " [16 17 18 19 20 21 22 23]\n",
      " [24 25 26 27 28 29 30 31]\n",
      " [32 33 34 35 36 37 38 39]\n",
      " [40 41 42 43 44 45 46 47]\n",
      " [48 49 50 51 52 53 54 55]\n",
      " [56 57 58 59 60 61 62 63]]\n",
      "[[[0. 0. 0.]\n",
      "  [0. 0. 1.]\n",
      "  [0. 1. 0.]\n",
      "  [0. 1. 1.]\n",
      "  [1. 0. 0.]\n",
      "  [1. 0. 1.]\n",
      "  [1. 1. 0.]\n",
      "  [1. 1. 1.]]\n",
      "\n",
      " [[0. 0. 0.]\n",
      "  [0. 0. 1.]\n",
      "  [0. 1. 0.]\n",
      "  [0. 1. 1.]\n",
      "  [1. 0. 0.]\n",
      "  [1. 0. 1.]\n",
      "  [1. 1. 0.]\n",
      "  [1. 1. 1.]]\n",
      "\n",
      " [[0. 0. 0.]\n",
      "  [0. 0. 1.]\n",
      "  [0. 1. 0.]\n",
      "  [0. 1. 1.]\n",
      "  [1. 0. 0.]\n",
      "  [1. 0. 1.]\n",
      "  [1. 1. 0.]\n",
      "  [1. 1. 1.]]\n",
      "\n",
      " [[0. 0. 0.]\n",
      "  [0. 0. 1.]\n",
      "  [0. 1. 0.]\n",
      "  [0. 1. 1.]\n",
      "  [1. 0. 0.]\n",
      "  [1. 0. 1.]\n",
      "  [1. 1. 0.]\n",
      "  [1. 1. 1.]]\n",
      "\n",
      " [[0. 0. 0.]\n",
      "  [0. 0. 1.]\n",
      "  [0. 1. 0.]\n",
      "  [0. 1. 1.]\n",
      "  [1. 0. 0.]\n",
      "  [1. 0. 1.]\n",
      "  [1. 1. 0.]\n",
      "  [1. 1. 1.]]\n",
      "\n",
      " [[0. 0. 0.]\n",
      "  [0. 0. 1.]\n",
      "  [0. 1. 0.]\n",
      "  [0. 1. 1.]\n",
      "  [1. 0. 0.]\n",
      "  [1. 0. 1.]\n",
      "  [1. 1. 0.]\n",
      "  [1. 1. 1.]]\n",
      "\n",
      " [[0. 0. 0.]\n",
      "  [0. 0. 1.]\n",
      "  [0. 1. 0.]\n",
      "  [0. 1. 1.]\n",
      "  [1. 0. 0.]\n",
      "  [1. 0. 1.]\n",
      "  [1. 1. 0.]\n",
      "  [1. 1. 1.]]\n",
      "\n",
      " [[0. 0. 0.]\n",
      "  [0. 0. 1.]\n",
      "  [0. 1. 0.]\n",
      "  [0. 1. 1.]\n",
      "  [1. 0. 0.]\n",
      "  [1. 0. 1.]\n",
      "  [1. 1. 0.]\n",
      "  [1. 1. 1.]]]\n"
     ]
    }
   ],
   "source": [
    "WriteSample(bez,None,None)"
   ]
  },
  {
   "cell_type": "code",
   "execution_count": 40,
   "metadata": {},
   "outputs": [],
   "source": [
    "def WriteSample(bezier, fdir, fname):\n",
    "    ielems = np.array(bez.index)\n",
    "    xis = np.array([p.coords for p in bez.points])\n",
    "    ielems_shape = ielems.shape\n",
    "    xis_shape = xis_shape\n",
    "    xis = xis.flatten()\n",
    "    ielems = ielems.flatten()\n",
    "    file = open(fdir + \"\\\\\" + fname)\n",
    "    for xi in xis:\n",
    "        np.savetxt(file,)"
   ]
  },
  {
   "cell_type": "code",
   "execution_count": null,
   "metadata": {},
   "outputs": [],
   "source": []
  },
  {
   "cell_type": "code",
   "execution_count": null,
   "metadata": {},
   "outputs": [],
   "source": []
  },
  {
   "cell_type": "code",
   "execution_count": null,
   "metadata": {},
   "outputs": [],
   "source": []
  }
 ],
 "metadata": {
  "kernelspec": {
   "display_name": "Python 3",
   "language": "python",
   "name": "python3"
  },
  "language_info": {
   "codemirror_mode": {
    "name": "ipython",
    "version": 3
   },
   "file_extension": ".py",
   "mimetype": "text/x-python",
   "name": "python",
   "nbconvert_exporter": "python",
   "pygments_lexer": "ipython3",
   "version": "3.7.4"
  }
 },
 "nbformat": 4,
 "nbformat_minor": 2
}
