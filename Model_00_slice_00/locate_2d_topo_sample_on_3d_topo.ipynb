{
 "cells": [
  {
   "cell_type": "code",
   "execution_count": 1,
   "metadata": {},
   "outputs": [],
   "source": [
    "from nutils import*\n",
    "import numpy as np\n",
    "import image_based_analysis as im\n",
    "from nutils.pointsseq import PointsSequence"
   ]
  },
  {
   "cell_type": "code",
   "execution_count": 7,
   "metadata": {},
   "outputs": [],
   "source": [
    "def LocateSampleOnLinearMesh(fromsample, fromgeom, totopo, togeom, eps=0, **kwargs):\n",
    "    geom0, scale = im.GetAffineTransformation(totopo, togeom)\n",
    "    coords = fromsample.eval(fromgeom)\n",
    "    weights = im.GetWeights(fromsample)\n",
    "    return totopo._locate(geom0, scale, coords, eps=eps, weights=weights)"
   ]
  },
  {
   "cell_type": "code",
   "execution_count": null,
   "metadata": {},
   "outputs": [],
   "source": []
  },
  {
   "cell_type": "code",
   "execution_count": null,
   "metadata": {},
   "outputs": [],
   "source": []
  },
  {
   "cell_type": "code",
   "execution_count": 2,
   "metadata": {},
   "outputs": [],
   "source": [
    "omega = function.Namespace()\n",
    "ptA = np.array([0,0,0])\n",
    "ptB = np.array([1,1,1])\n",
    "omega_shape = np.array([20,20,20])\n",
    "omega_topo, omega.x = im.Rectilinear(ptA, ptB, omega_shape)"
   ]
  },
  {
   "cell_type": "code",
   "execution_count": 3,
   "metadata": {},
   "outputs": [],
   "source": [
    "gamma = function.Namespace()\n",
    "pta = [0,0]\n",
    "ptb = [1,1]\n",
    "gamma_shape = [50,50]\n",
    "gamma_topo, gamma.xi = im.Rectilinear(pta, ptb, gamma_shape)\n",
    "gamma.o = function.asarray([0.2,0.2,0.2])\n",
    "gamma.u = function.asarray([0.6,0.0,0.0])\n",
    "gamma.v = function.asarray([0.0,0.6,0.6])\n",
    "gamma.x_i = 'o_i + xi_0 u_i + xi_1 v_i'"
   ]
  },
  {
   "cell_type": "code",
   "execution_count": null,
   "metadata": {},
   "outputs": [],
   "source": []
  },
  {
   "cell_type": "code",
   "execution_count": 4,
   "metadata": {},
   "outputs": [
    {
     "name": "stdout",
     "output_type": "stream",
     "text": [
      "gamma bounds:\n",
      "[0.2, 0.2, 0.2]\n",
      "[0.8, 0.8, 0.8]\n",
      "omega bounds:\n",
      "[0.0, 0.0, 0.0]\n",
      "[1.0, 1.0, 1.0]\n"
     ]
    }
   ],
   "source": [
    "bez = gamma_topo.sample('bezier',2)\n",
    "vals = bez.eval(gamma.x)\n",
    "print(\"gamma bounds:\")\n",
    "print([min(vals[:,i]) for i in range(3)])\n",
    "print([max(vals[:,i]) for i in range(3)])\n",
    "bez = omega_topo.sample('bezier',2)\n",
    "vals = bez.eval(omega.x)\n",
    "print(\"omega bounds:\")\n",
    "print([min(vals[:,i]) for i in range(3)])\n",
    "print([max(vals[:,i]) for i in range(3)])"
   ]
  },
  {
   "cell_type": "code",
   "execution_count": 8,
   "metadata": {},
   "outputs": [],
   "source": [
    "# Linear geometry detected  -  good \n",
    "gauss_gamma = gamma_topo.sample('gauss', 2)\n",
    "geom0, scale = im.GetAffineTransformation(omega_topo, omega.x)\n",
    "gauss_omega = LocateSampleOnLinearMesh(gauss_gamma, gamma.x, omega_topo, omega.x)"
   ]
  },
  {
   "cell_type": "code",
   "execution_count": null,
   "metadata": {},
   "outputs": [],
   "source": []
  },
  {
   "cell_type": "code",
   "execution_count": 10,
   "metadata": {},
   "outputs": [],
   "source": [
    "# Build subtopology\n",
    "min_voxel_coords = [1,1,1]\n",
    "max_voxel_coords = np.array(omega_shape) - 1\n",
    "omega_subtopo = im.RectilinearSubtopology(omega_topo, min_voxel_coords, max_voxel_coords)"
   ]
  },
  {
   "cell_type": "code",
   "execution_count": 18,
   "metadata": {},
   "outputs": [
    {
     "name": "stdout",
     "output_type": "stream",
     "text": [
      "[ 842  843  844 ... 7576 7577 7578]\n"
     ]
    }
   ],
   "source": [
    "print(omega_subtopo._indices)"
   ]
  },
  {
   "cell_type": "code",
   "execution_count": 12,
   "metadata": {},
   "outputs": [
    {
     "name": "stdout",
     "output_type": "stream",
     "text": [
      "gamma bounds:\n",
      "[0.2, 0.2, 0.2]\n",
      "[0.8, 0.8, 0.8]\n",
      "omega subtopo bounds:\n",
      "[0.1, 0.1, 0.1]\n",
      "[0.9500000000000001, 0.9500000000000001, 0.9500000000000001]\n"
     ]
    }
   ],
   "source": [
    "bez = gamma_topo.sample('bezier',2)\n",
    "vals = bez.eval(gamma.x)\n",
    "print(\"gamma bounds:\")\n",
    "print([min(vals[:,i]) for i in range(3)])\n",
    "print([max(vals[:,i]) for i in range(3)])\n",
    "bez = omega_subtopo.sample('bezier',2)\n",
    "vals = bez.eval(omega.x)\n",
    "print(\"omega subtopo bounds:\")\n",
    "print([min(vals[:,i]) for i in range(3)])\n",
    "print([max(vals[:,i]) for i in range(3)])"
   ]
  },
  {
   "cell_type": "code",
   "execution_count": 14,
   "metadata": {},
   "outputs": [
    {
     "ename": "AttributeError",
     "evalue": "'SubsetTopology' object has no attribute 'shape'",
     "output_type": "error",
     "traceback": [
      "\u001b[1;31m---------------------------------------------------------------------------\u001b[0m",
      "\u001b[1;31mAttributeError\u001b[0m                            Traceback (most recent call last)",
      "\u001b[1;32m<ipython-input-14-9d6b51f13c9e>\u001b[0m in \u001b[0;36m<module>\u001b[1;34m\u001b[0m\n\u001b[0;32m      1\u001b[0m \u001b[1;31m# Linear geometry detected  -  good\u001b[0m\u001b[1;33m\u001b[0m\u001b[1;33m\u001b[0m\u001b[1;33m\u001b[0m\u001b[0m\n\u001b[0;32m      2\u001b[0m \u001b[0mbez_gamma\u001b[0m \u001b[1;33m=\u001b[0m \u001b[0mgamma_topo\u001b[0m\u001b[1;33m.\u001b[0m\u001b[0msample\u001b[0m\u001b[1;33m(\u001b[0m\u001b[1;34m'gauss'\u001b[0m\u001b[1;33m,\u001b[0m \u001b[1;36m2\u001b[0m\u001b[1;33m)\u001b[0m\u001b[1;33m\u001b[0m\u001b[1;33m\u001b[0m\u001b[0m\n\u001b[1;32m----> 3\u001b[1;33m \u001b[0mbez_omega\u001b[0m \u001b[1;33m=\u001b[0m \u001b[0mLocateSampleOnLinearMesh\u001b[0m\u001b[1;33m(\u001b[0m\u001b[0mbez_gamma\u001b[0m\u001b[1;33m,\u001b[0m \u001b[0mgamma\u001b[0m\u001b[1;33m.\u001b[0m\u001b[0mx\u001b[0m\u001b[1;33m,\u001b[0m \u001b[0momega_subtopo\u001b[0m\u001b[1;33m,\u001b[0m \u001b[0momega\u001b[0m\u001b[1;33m.\u001b[0m\u001b[0mx\u001b[0m\u001b[1;33m)\u001b[0m\u001b[1;33m\u001b[0m\u001b[1;33m\u001b[0m\u001b[0m\n\u001b[0m",
      "\u001b[1;32m<ipython-input-7-dd160527b721>\u001b[0m in \u001b[0;36mLocateSampleOnLinearMesh\u001b[1;34m(fromsample, fromgeom, totopo, togeom, eps, **kwargs)\u001b[0m\n\u001b[0;32m      1\u001b[0m \u001b[1;32mdef\u001b[0m \u001b[0mLocateSampleOnLinearMesh\u001b[0m\u001b[1;33m(\u001b[0m\u001b[0mfromsample\u001b[0m\u001b[1;33m,\u001b[0m \u001b[0mfromgeom\u001b[0m\u001b[1;33m,\u001b[0m \u001b[0mtotopo\u001b[0m\u001b[1;33m,\u001b[0m \u001b[0mtogeom\u001b[0m\u001b[1;33m,\u001b[0m \u001b[0meps\u001b[0m\u001b[1;33m=\u001b[0m\u001b[1;36m0\u001b[0m\u001b[1;33m,\u001b[0m \u001b[1;33m**\u001b[0m\u001b[0mkwargs\u001b[0m\u001b[1;33m)\u001b[0m\u001b[1;33m:\u001b[0m\u001b[1;33m\u001b[0m\u001b[1;33m\u001b[0m\u001b[0m\n\u001b[1;32m----> 2\u001b[1;33m     \u001b[0mgeom0\u001b[0m\u001b[1;33m,\u001b[0m \u001b[0mscale\u001b[0m \u001b[1;33m=\u001b[0m \u001b[0mim\u001b[0m\u001b[1;33m.\u001b[0m\u001b[0mGetAffineTransformation\u001b[0m\u001b[1;33m(\u001b[0m\u001b[0mtotopo\u001b[0m\u001b[1;33m,\u001b[0m \u001b[0mtogeom\u001b[0m\u001b[1;33m)\u001b[0m\u001b[1;33m\u001b[0m\u001b[1;33m\u001b[0m\u001b[0m\n\u001b[0m\u001b[0;32m      3\u001b[0m     \u001b[0mcoords\u001b[0m \u001b[1;33m=\u001b[0m \u001b[0mfromsample\u001b[0m\u001b[1;33m.\u001b[0m\u001b[0meval\u001b[0m\u001b[1;33m(\u001b[0m\u001b[0mfromgeom\u001b[0m\u001b[1;33m)\u001b[0m\u001b[1;33m\u001b[0m\u001b[1;33m\u001b[0m\u001b[0m\n\u001b[0;32m      4\u001b[0m     \u001b[0mweights\u001b[0m \u001b[1;33m=\u001b[0m \u001b[0mim\u001b[0m\u001b[1;33m.\u001b[0m\u001b[0mGetWeights\u001b[0m\u001b[1;33m(\u001b[0m\u001b[0mfromsample\u001b[0m\u001b[1;33m)\u001b[0m\u001b[1;33m\u001b[0m\u001b[1;33m\u001b[0m\u001b[0m\n\u001b[0;32m      5\u001b[0m     \u001b[1;32mreturn\u001b[0m \u001b[0mtotopo\u001b[0m\u001b[1;33m.\u001b[0m\u001b[0m_locate\u001b[0m\u001b[1;33m(\u001b[0m\u001b[0mgeom0\u001b[0m\u001b[1;33m,\u001b[0m \u001b[0mscale\u001b[0m\u001b[1;33m,\u001b[0m \u001b[0mcoords\u001b[0m\u001b[1;33m,\u001b[0m \u001b[0meps\u001b[0m\u001b[1;33m=\u001b[0m\u001b[0meps\u001b[0m\u001b[1;33m,\u001b[0m \u001b[0mweights\u001b[0m\u001b[1;33m=\u001b[0m\u001b[0mweights\u001b[0m\u001b[1;33m)\u001b[0m\u001b[1;33m\u001b[0m\u001b[1;33m\u001b[0m\u001b[0m\n",
      "\u001b[1;32m~\\Documents\\MJJ\\Heartflow\\heartflow\\Model_00_slice_00\\image_based_analysis.py\u001b[0m in \u001b[0;36mGetAffineTransformation\u001b[1;34m(structured_topo, geom)\u001b[0m\n\u001b[0;32m    433\u001b[0m \u001b[1;32mdef\u001b[0m \u001b[0mGetAffineTransformation\u001b[0m\u001b[1;33m(\u001b[0m\u001b[0mstructured_topo\u001b[0m\u001b[1;33m,\u001b[0m \u001b[0mgeom\u001b[0m\u001b[1;33m)\u001b[0m\u001b[1;33m:\u001b[0m\u001b[1;33m\u001b[0m\u001b[1;33m\u001b[0m\u001b[0m\n\u001b[0;32m    434\u001b[0m     \u001b[0mnelems\u001b[0m \u001b[1;33m=\u001b[0m \u001b[0mlen\u001b[0m\u001b[1;33m(\u001b[0m\u001b[0mstructured_topo\u001b[0m\u001b[1;33m)\u001b[0m\u001b[1;33m\u001b[0m\u001b[1;33m\u001b[0m\u001b[0m\n\u001b[1;32m--> 435\u001b[1;33m     \u001b[0mshape\u001b[0m \u001b[1;33m=\u001b[0m \u001b[0mstructured_topo\u001b[0m\u001b[1;33m.\u001b[0m\u001b[0mshape\u001b[0m\u001b[1;33m\u001b[0m\u001b[1;33m\u001b[0m\u001b[0m\n\u001b[0m\u001b[0;32m    436\u001b[0m     \u001b[0mdim\u001b[0m \u001b[1;33m=\u001b[0m \u001b[0mstructured_topo\u001b[0m\u001b[1;33m.\u001b[0m\u001b[0mndims\u001b[0m\u001b[1;33m\u001b[0m\u001b[1;33m\u001b[0m\u001b[0m\n\u001b[0;32m    437\u001b[0m     \u001b[0mielems\u001b[0m \u001b[1;33m=\u001b[0m \u001b[0mnp\u001b[0m\u001b[1;33m.\u001b[0m\u001b[0marray\u001b[0m\u001b[1;33m(\u001b[0m\u001b[1;33m[\u001b[0m\u001b[1;36m0\u001b[0m\u001b[1;33m,\u001b[0m\u001b[0mnelems\u001b[0m\u001b[1;33m-\u001b[0m\u001b[1;36m1\u001b[0m\u001b[1;33m]\u001b[0m\u001b[1;33m,\u001b[0m\u001b[0mdtype\u001b[0m\u001b[1;33m=\u001b[0m\u001b[0mint\u001b[0m\u001b[1;33m)\u001b[0m\u001b[1;33m\u001b[0m\u001b[1;33m\u001b[0m\u001b[0m\n",
      "\u001b[1;31mAttributeError\u001b[0m: 'SubsetTopology' object has no attribute 'shape'"
     ]
    }
   ],
   "source": [
    "# Linear geometry detected  -  good \n",
    "bez_gamma = gamma_topo.sample('gauss', 2)\n",
    "bez_omega = LocateSampleOnLinearMesh(bez_gamma, gamma.x, omega_subtopo, omega.x)"
   ]
  },
  {
   "cell_type": "code",
   "execution_count": 19,
   "metadata": {},
   "outputs": [],
   "source": [
    "# now lets test locating from a refined topology\n",
    "gamma.x0_i = '<0.5, 0.5>_i'\n",
    "gamma.r = '0.1'\n",
    "gamma.sdf = 'xi_i xi_i - r^2'\n",
    "nref = 3\n",
    "gamma_rtopo = im.RefineVoxelMeshBySDF(gamma_topo, gamma.sdf, nref)"
   ]
  },
  {
   "cell_type": "code",
   "execution_count": 22,
   "metadata": {},
   "outputs": [
    {
     "ename": "AttributeError",
     "evalue": "'HierarchicalTopology' object has no attribute 'shape'",
     "output_type": "error",
     "traceback": [
      "\u001b[1;31m---------------------------------------------------------------------------\u001b[0m",
      "\u001b[1;31mAttributeError\u001b[0m                            Traceback (most recent call last)",
      "\u001b[1;32m<ipython-input-22-2333495828e6>\u001b[0m in \u001b[0;36m<module>\u001b[1;34m\u001b[0m\n\u001b[0;32m      1\u001b[0m \u001b[1;31m# Linear geometry detected  -  good\u001b[0m\u001b[1;33m\u001b[0m\u001b[1;33m\u001b[0m\u001b[1;33m\u001b[0m\u001b[0m\n\u001b[0;32m      2\u001b[0m \u001b[0mbez_gamma\u001b[0m \u001b[1;33m=\u001b[0m \u001b[0mgamma_rtopo\u001b[0m\u001b[1;33m.\u001b[0m\u001b[0msample\u001b[0m\u001b[1;33m(\u001b[0m\u001b[1;34m'gauss'\u001b[0m\u001b[1;33m,\u001b[0m \u001b[1;36m2\u001b[0m\u001b[1;33m)\u001b[0m\u001b[1;33m\u001b[0m\u001b[1;33m\u001b[0m\u001b[0m\n\u001b[1;32m----> 3\u001b[1;33m \u001b[0mbez_omega\u001b[0m \u001b[1;33m=\u001b[0m \u001b[0mLocateSampleOnLinearMesh\u001b[0m\u001b[1;33m(\u001b[0m\u001b[0mbez_gamma\u001b[0m\u001b[1;33m,\u001b[0m \u001b[0mgamma\u001b[0m\u001b[1;33m.\u001b[0m\u001b[0mx\u001b[0m\u001b[1;33m,\u001b[0m \u001b[0mgamma_rtopo\u001b[0m\u001b[1;33m,\u001b[0m \u001b[0momega\u001b[0m\u001b[1;33m.\u001b[0m\u001b[0mx\u001b[0m\u001b[1;33m)\u001b[0m\u001b[1;33m\u001b[0m\u001b[1;33m\u001b[0m\u001b[0m\n\u001b[0m",
      "\u001b[1;32m<ipython-input-7-dd160527b721>\u001b[0m in \u001b[0;36mLocateSampleOnLinearMesh\u001b[1;34m(fromsample, fromgeom, totopo, togeom, eps, **kwargs)\u001b[0m\n\u001b[0;32m      1\u001b[0m \u001b[1;32mdef\u001b[0m \u001b[0mLocateSampleOnLinearMesh\u001b[0m\u001b[1;33m(\u001b[0m\u001b[0mfromsample\u001b[0m\u001b[1;33m,\u001b[0m \u001b[0mfromgeom\u001b[0m\u001b[1;33m,\u001b[0m \u001b[0mtotopo\u001b[0m\u001b[1;33m,\u001b[0m \u001b[0mtogeom\u001b[0m\u001b[1;33m,\u001b[0m \u001b[0meps\u001b[0m\u001b[1;33m=\u001b[0m\u001b[1;36m0\u001b[0m\u001b[1;33m,\u001b[0m \u001b[1;33m**\u001b[0m\u001b[0mkwargs\u001b[0m\u001b[1;33m)\u001b[0m\u001b[1;33m:\u001b[0m\u001b[1;33m\u001b[0m\u001b[1;33m\u001b[0m\u001b[0m\n\u001b[1;32m----> 2\u001b[1;33m     \u001b[0mgeom0\u001b[0m\u001b[1;33m,\u001b[0m \u001b[0mscale\u001b[0m \u001b[1;33m=\u001b[0m \u001b[0mim\u001b[0m\u001b[1;33m.\u001b[0m\u001b[0mGetAffineTransformation\u001b[0m\u001b[1;33m(\u001b[0m\u001b[0mtotopo\u001b[0m\u001b[1;33m,\u001b[0m \u001b[0mtogeom\u001b[0m\u001b[1;33m)\u001b[0m\u001b[1;33m\u001b[0m\u001b[1;33m\u001b[0m\u001b[0m\n\u001b[0m\u001b[0;32m      3\u001b[0m     \u001b[0mcoords\u001b[0m \u001b[1;33m=\u001b[0m \u001b[0mfromsample\u001b[0m\u001b[1;33m.\u001b[0m\u001b[0meval\u001b[0m\u001b[1;33m(\u001b[0m\u001b[0mfromgeom\u001b[0m\u001b[1;33m)\u001b[0m\u001b[1;33m\u001b[0m\u001b[1;33m\u001b[0m\u001b[0m\n\u001b[0;32m      4\u001b[0m     \u001b[0mweights\u001b[0m \u001b[1;33m=\u001b[0m \u001b[0mim\u001b[0m\u001b[1;33m.\u001b[0m\u001b[0mGetWeights\u001b[0m\u001b[1;33m(\u001b[0m\u001b[0mfromsample\u001b[0m\u001b[1;33m)\u001b[0m\u001b[1;33m\u001b[0m\u001b[1;33m\u001b[0m\u001b[0m\n\u001b[0;32m      5\u001b[0m     \u001b[1;32mreturn\u001b[0m \u001b[0mtotopo\u001b[0m\u001b[1;33m.\u001b[0m\u001b[0m_locate\u001b[0m\u001b[1;33m(\u001b[0m\u001b[0mgeom0\u001b[0m\u001b[1;33m,\u001b[0m \u001b[0mscale\u001b[0m\u001b[1;33m,\u001b[0m \u001b[0mcoords\u001b[0m\u001b[1;33m,\u001b[0m \u001b[0meps\u001b[0m\u001b[1;33m=\u001b[0m\u001b[0meps\u001b[0m\u001b[1;33m,\u001b[0m \u001b[0mweights\u001b[0m\u001b[1;33m=\u001b[0m\u001b[0mweights\u001b[0m\u001b[1;33m)\u001b[0m\u001b[1;33m\u001b[0m\u001b[1;33m\u001b[0m\u001b[0m\n",
      "\u001b[1;32m~\\Documents\\MJJ\\Heartflow\\heartflow\\Model_00_slice_00\\image_based_analysis.py\u001b[0m in \u001b[0;36mGetAffineTransformation\u001b[1;34m(structured_topo, geom)\u001b[0m\n\u001b[0;32m    433\u001b[0m \u001b[1;32mdef\u001b[0m \u001b[0mGetAffineTransformation\u001b[0m\u001b[1;33m(\u001b[0m\u001b[0mstructured_topo\u001b[0m\u001b[1;33m,\u001b[0m \u001b[0mgeom\u001b[0m\u001b[1;33m)\u001b[0m\u001b[1;33m:\u001b[0m\u001b[1;33m\u001b[0m\u001b[1;33m\u001b[0m\u001b[0m\n\u001b[0;32m    434\u001b[0m     \u001b[0mnelems\u001b[0m \u001b[1;33m=\u001b[0m \u001b[0mlen\u001b[0m\u001b[1;33m(\u001b[0m\u001b[0mstructured_topo\u001b[0m\u001b[1;33m)\u001b[0m\u001b[1;33m\u001b[0m\u001b[1;33m\u001b[0m\u001b[0m\n\u001b[1;32m--> 435\u001b[1;33m     \u001b[0mshape\u001b[0m \u001b[1;33m=\u001b[0m \u001b[0mstructured_topo\u001b[0m\u001b[1;33m.\u001b[0m\u001b[0mshape\u001b[0m\u001b[1;33m\u001b[0m\u001b[1;33m\u001b[0m\u001b[0m\n\u001b[0m\u001b[0;32m    436\u001b[0m     \u001b[0mdim\u001b[0m \u001b[1;33m=\u001b[0m \u001b[0mstructured_topo\u001b[0m\u001b[1;33m.\u001b[0m\u001b[0mndims\u001b[0m\u001b[1;33m\u001b[0m\u001b[1;33m\u001b[0m\u001b[0m\n\u001b[0;32m    437\u001b[0m     \u001b[0mielems\u001b[0m \u001b[1;33m=\u001b[0m \u001b[0mnp\u001b[0m\u001b[1;33m.\u001b[0m\u001b[0marray\u001b[0m\u001b[1;33m(\u001b[0m\u001b[1;33m[\u001b[0m\u001b[1;36m0\u001b[0m\u001b[1;33m,\u001b[0m\u001b[0mnelems\u001b[0m\u001b[1;33m-\u001b[0m\u001b[1;36m1\u001b[0m\u001b[1;33m]\u001b[0m\u001b[1;33m,\u001b[0m\u001b[0mdtype\u001b[0m\u001b[1;33m=\u001b[0m\u001b[0mint\u001b[0m\u001b[1;33m)\u001b[0m\u001b[1;33m\u001b[0m\u001b[1;33m\u001b[0m\u001b[0m\n",
      "\u001b[1;31mAttributeError\u001b[0m: 'HierarchicalTopology' object has no attribute 'shape'"
     ]
    }
   ],
   "source": [
    "# Linear geometry detected  -  good \n",
    "bez_gamma = gamma_rtopo.sample('gauss', 2)\n",
    "bez_omega = LocateSampleOnLinearMesh(bez_gamma, gamma.x, gamma_rtopo, omega.x)"
   ]
  },
  {
   "cell_type": "code",
   "execution_count": 14,
   "metadata": {},
   "outputs": [
    {
     "name": "stdout",
     "output_type": "stream",
     "text": [
      "<class 'nutils.topology.StructuredTopology'>\n",
      "<class 'nutils.topology.HierarchicalTopology'>\n",
      "<class 'nutils.topology.StructuredTopology'>\n",
      "<class 'nutils.topology.SubsetTopology'>\n"
     ]
    }
   ],
   "source": [
    "print(type(gamma_topo))\n",
    "print(type(gamma_rtopo))\n",
    "print(type(omega_topo))\n",
    "print(type(omega_subtopo))"
   ]
  },
  {
   "cell_type": "code",
   "execution_count": 26,
   "metadata": {},
   "outputs": [
    {
     "ename": "AttributeError",
     "evalue": "'HierarchicalTopology' object has no attribute '_asaffine'",
     "output_type": "error",
     "traceback": [
      "\u001b[1;31m---------------------------------------------------------------------------\u001b[0m",
      "\u001b[1;31mAttributeError\u001b[0m                            Traceback (most recent call last)",
      "\u001b[1;32m<ipython-input-26-ccae2a8cebfe>\u001b[0m in \u001b[0;36m<module>\u001b[1;34m\u001b[0m\n\u001b[1;32m----> 1\u001b[1;33m \u001b[0mprint\u001b[0m\u001b[1;33m(\u001b[0m\u001b[0mgamma_rtopo\u001b[0m\u001b[1;33m.\u001b[0m\u001b[0m_asaffine\u001b[0m\u001b[1;33m(\u001b[0m\u001b[1;33m)\u001b[0m\u001b[1;33m)\u001b[0m\u001b[1;33m\u001b[0m\u001b[1;33m\u001b[0m\u001b[0m\n\u001b[0m",
      "\u001b[1;31mAttributeError\u001b[0m: 'HierarchicalTopology' object has no attribute '_asaffine'"
     ]
    }
   ],
   "source": [
    "print(gamma_rtopo._asaffine())"
   ]
  },
  {
   "cell_type": "code",
   "execution_count": null,
   "metadata": {},
   "outputs": [],
   "source": []
  },
  {
   "cell_type": "code",
   "execution_count": null,
   "metadata": {},
   "outputs": [],
   "source": []
  }
 ],
 "metadata": {
  "kernelspec": {
   "display_name": "Python 3",
   "language": "python",
   "name": "python3"
  },
  "language_info": {
   "codemirror_mode": {
    "name": "ipython",
    "version": 3
   },
   "file_extension": ".py",
   "mimetype": "text/x-python",
   "name": "python",
   "nbconvert_exporter": "python",
   "pygments_lexer": "ipython3",
   "version": "3.7.4"
  }
 },
 "nbformat": 4,
 "nbformat_minor": 2
}
